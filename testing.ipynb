{
 "cells": [
  {
   "cell_type": "code",
   "execution_count": 348,
   "metadata": {},
   "outputs": [],
   "source": [
    "import numpy as np\n",
    "import random as rd\n",
    "import math\n",
    "import seaborn as sns\n",
    "import matplotlib as plt\n",
    "from IPython.display import display\n",
    "\n",
    "DIRECTIONS = (\n",
    "    (0, 1),  # Right\n",
    "    (0, -1), # Left\n",
    "    (1, 0),  # Up\n",
    "    (-1, 0), # Down\n",
    ")\n",
    "\n",
    "SHIPTYPE =\t{\n",
    "    1 : 'Special Operations Craft',\n",
    "    2 : 'Submarine',\n",
    "    3 : 'Light Missile Cruiser',\n",
    "    4 : 'Battleship',\n",
    "    5 : 'Carrier',\n",
    "    6 : 'Carrier and Plane 1',\n",
    "    7 : 'Carrier and Plane 2'\n",
    "}\n",
    "\n",
    "SHIPLENGTH =\t{\n",
    "    1 : 2,\n",
    "    2 : 3,\n",
    "    3 : 3,\n",
    "    4 : 4,\n",
    "    5 : 5\n",
    "}\n",
    "\n",
    "# Game states: Whos turn, Game won/By Whom, Each Players sub shots, LMC shots, battlship shots, plane positions, plane missiles, plane alive\n",
    "\n",
    "# 2 is a hit 1 is a miss"
   ]
  },
  {
   "cell_type": "code",
   "execution_count": 349,
   "metadata": {},
   "outputs": [],
   "source": [
    "def generate_game(board_size):\n",
    "    player_one_ship_board = generate_ship_board(board_size)\n",
    "    player_two_ship_board = generate_ship_board(board_size)\n",
    "    player_one_intel_board = np.zeros((board_size, board_size), dtype = int)\n",
    "    player_two_intel_board = np.zeros((board_size, board_size), dtype = int)\n",
    "\n",
    "    return [player_one_ship_board,player_one_intel_board,player_two_ship_board,player_two_intel_board]\n",
    "    \n",
    "def generate_ship_board(board_size):\n",
    "\n",
    "    ship_board = np.zeros((board_size, board_size), dtype = tuple)\n",
    "    for x in range(0,board_size):\n",
    "        for y in range(0,board_size):\n",
    "            ship_board[x][y] = (0,0)\n",
    "\n",
    "    for i in range (1,6):\n",
    "\n",
    "        ship_type = i\n",
    "        ship_board = insert_ship(ship_board, ship_type, board_size)\n",
    "\n",
    "    return ship_board\n",
    "\n",
    "def insert_ship(board, ship_type, board_size):\n",
    "\n",
    "    ship_size = SHIPLENGTH[ship_type]\n",
    "    cells = False\n",
    "\n",
    "    while not cells:\n",
    "        row = rd.randint(0, board_size - 1)\n",
    "        col = rd.randint(0, board_size - 1)\n",
    "        direction = rd.choice(DIRECTIONS)\n",
    "        dr, dc = direction\n",
    "        cells = insert_ship_helper(row, col, board, direction, ship_size)\n",
    "\n",
    "\n",
    "    for row, column in cells:\n",
    "        board[row][column] = (ship_type,0)\n",
    "    \n",
    "    if ship_size == 5:\n",
    "        plane_cells = rd.sample(cells,2)\n",
    "\n",
    "        row, col = plane_cells[0]\n",
    "        board[row][col] = (6,0)\n",
    "\n",
    "        row, col = plane_cells[1]\n",
    "        board[row][col] = (7,0)\n",
    "    return board\n",
    "\n",
    "def insert_ship_helper(row, col, board, direction, ship_size):\n",
    "    \n",
    "\n",
    "    cells = []\n",
    "    dr, dc = direction\n",
    "\n",
    "    for len in range(ship_size):\n",
    "            try:\n",
    "                if board[row][col] == (0,0):\n",
    "                    cells.append((row, col))\n",
    "                    row += dr\n",
    "                    col += dc\n",
    "\n",
    "                    if (row < 0) or (col < 0):\n",
    "                        return None\n",
    "\n",
    "                else:\n",
    "                    return False\n",
    "            except IndexError:\n",
    "                return False\n",
    "\n",
    "            if len == (ship_size-1):\n",
    "                return cells\n",
    "\n",
    "def simple_shot(row, col, board):\n",
    "    if is_hit(board, (row,col)):\n",
    "        return 2\n",
    "    else:\n",
    "        return 1\n",
    "\n",
    "def update_game(player_one_intel_board, player_one_ship_board, player_two_intel_board, player_two_ship_board, players_turn, coordinates, player1spaces, player2spaces):\n",
    "    row, col = coordinates\n",
    "\n",
    "    if players_turn == 1:\n",
    "        shot = simple_shot(row, col, player_two_ship_board)\n",
    "        player_one_intel_board[row][col] = shot\n",
    "        player_two_ship_board[row][col] = (player_two_ship_board[row][col][0],shot)\n",
    "        if shot == 2:\n",
    "            player2spaces += -1\n",
    "    \n",
    "    if players_turn == 2:\n",
    "        shot = simple_shot(row, col, player_one_ship_board)\n",
    "        player_two_intel_board[row][col] = shot\n",
    "        player_one_ship_board[row][col] = (player_one_ship_board[row][col][0],shot)\n",
    "        if shot == 2:\n",
    "            player1spaces += -1\n",
    "    \n",
    "    return [player_one_intel_board, player_one_ship_board, player_two_intel_board, player_two_ship_board, player1spaces, player2spaces]\n",
    "    \n",
    "def is_hit(board, coordinates):\n",
    "    row, col = coordinates\n",
    "    if board[row][col][0] == 0:\n",
    "        return False\n",
    "    else:\n",
    "        return True"
   ]
  },
  {
   "cell_type": "code",
   "execution_count": 354,
   "metadata": {},
   "outputs": [
    {
     "data": {
      "text/plain": [
       "<seaborn.axisgrid.FacetGrid at 0x295b72999a0>"
      ]
     },
     "execution_count": 354,
     "metadata": {},
     "output_type": "execute_result"
    },
    {
     "data": {
      "image/png": "[encoded data removed]",
      "text/plain": [
       "<Figure size 360x360 with 1 Axes>"
      ]
     },
     "metadata": {
      "needs_background": "light"
     },
     "output_type": "display_data"
    }
   ],
   "source": [
    "winner = []\n",
    "turns  = []\n",
    "\n",
    "for game in range (0,5000):\n",
    "\n",
    "    [player_one_ship_board,player_one_intel_board,player_two_ship_board,player_two_intel_board] = generate_game(14)\n",
    "    player1spaces = 17\n",
    "    player2spaces = 17\n",
    "\n",
    "    i = 0\n",
    "    while (player1spaces != 0) and (player2spaces != 0):\n",
    "        players_turn = (i%2) + 1\n",
    "        i += 1\n",
    "\n",
    "        row = rd.randint(0, 14 - 1)\n",
    "        col = rd.randint(0, 14 - 1)\n",
    "        coordinates = (row,col)\n",
    "        \n",
    "        [player_one_intel_board, player_one_ship_board, player_two_intel_board, player_two_ship_board, player1spaces, player2spaces] = update_game(player_one_intel_board, player_one_ship_board, player_two_intel_board, player_two_ship_board, players_turn, coordinates, player1spaces, player2spaces)\n",
    "\n",
    "    if player1spaces == 0:\n",
    "        winner.append(1)\n",
    "    else:\n",
    "        winner.append(2)\n",
    "    \n",
    "    turns.append(math.ceil(i/2))\n",
    "\n",
    "sns.displot(turns, kde = True)"
   ]
  },
  {
   "cell_type": "code",
   "execution_count": 353,
   "metadata": {},
   "outputs": [
    {
     "data": {
      "text/plain": [
       "<AxesSubplot: ylabel='Count'>"
      ]
     },
     "execution_count": 353,
     "metadata": {},
     "output_type": "execute_result"
    },
    {
     "data": {
      "image/png": "[encoded data removed]",
      "text/plain": [
       "<Figure size 432x288 with 1 Axes>"
      ]
     },
     "metadata": {
      "needs_background": "light"
     },
     "output_type": "display_data"
    }
   ],
   "source": [
    "sns.histplot(winner, discrete=True)"
   ]
  }
 ],
 "metadata": {
  "kernelspec": {
   "display_name": "deeplearning",
   "language": "python",
   "name": "python3"
  },
  "language_info": {
   "codemirror_mode": {
    "name": "ipython",
    "version": 3
   },
   "file_extension": ".py",
   "mimetype": "text/x-python",
   "name": "python",
   "nbconvert_exporter": "python",
   "pygments_lexer": "ipython3",
   "version": "3.9.7"
  },
  "orig_nbformat": 4,
  "vscode": {
   "interpreter": {
    "hash": "f5579213baea66086bbe11df80b034e7a7d89f9769f0508fc1ced10dd14b57b8"
   }
  }
 },
 "nbformat": 4,
 "nbformat_minor": 2
}
